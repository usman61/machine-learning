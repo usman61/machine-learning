{
 "cells": [
  {
   "cell_type": "markdown",
   "id": "a74ba94e",
   "metadata": {},
   "source": [
    "# K Mean Without Library Function"
   ]
  },
  {
   "cell_type": "code",
   "execution_count": null,
   "id": "377ed33a",
   "metadata": {},
   "outputs": [],
   "source": [
    "# Clustering Without Libraries (built in function) "
   ]
  },
  {
   "cell_type": "code",
   "execution_count": 97,
   "id": "d7c36eef",
   "metadata": {},
   "outputs": [],
   "source": [
    "import random\n",
    "import numpy as np\n",
    "import matplotlib.pyplot as plt\n",
    "\n",
    "# Importing libraries for evaluations\n",
    "from sklearn.metrics import silhouette_samples, silhouette_score,rand_score\n",
    "from sklearn.preprocessing import StandardScaler\n",
    "from sklearn import metrics\n",
    "from sklearn.metrics.cluster import rand_score\n",
    "import random"
   ]
  },
  {
   "cell_type": "code",
   "execution_count": 6,
   "id": "ff829e27",
   "metadata": {},
   "outputs": [],
   "source": [
    "# this ftn would just load the provided data set as pandas frame\n",
    "# return the data with actual labels in X and y respectively\n",
    "def load_dataset(filepath):\n",
    "    # loading data Set (Path.csv)\n",
    "    train = np.genfromtxt(filepath, delimiter=',')\n",
    "    X= train[:,0:2]\n",
    "    y= train[:,2]\n",
    "    return X,y          "
   ]
  },
  {
   "cell_type": "code",
   "execution_count": 7,
   "id": "f533b9a8",
   "metadata": {},
   "outputs": [],
   "source": [
    "w_X_path,w_y_path = load_dataset('/home/usman/Data_Sets/Path.csv')\n",
    "w_X_artf,w_y_artf = load_dataset('/home/usman/Data_Sets/Artificial.csv')\n",
    "w_X_spir,w_y_spir = load_dataset('/home/usman/Data_Sets/Spiral.csv')"
   ]
  },
  {
   "cell_type": "code",
   "execution_count": 11,
   "id": "84a4049e",
   "metadata": {},
   "outputs": [
    {
     "name": "stdout",
     "output_type": "stream",
     "text": [
      "(300, 2)\n"
     ]
    }
   ],
   "source": [
    "print(w_X_path.shape)"
   ]
  },
  {
   "cell_type": "code",
   "execution_count": 16,
   "id": "652bbba8",
   "metadata": {},
   "outputs": [],
   "source": [
    "K=3     # no. of cluster used Elbow method to find the optimal value for K\n",
    "n_iter=50         # no. of iteration"
   ]
  },
  {
   "cell_type": "code",
   "execution_count": 9,
   "id": "c95add24",
   "metadata": {},
   "outputs": [],
   "source": []
  },
  {
   "cell_type": "code",
   "execution_count": 51,
   "id": "942bd4fb",
   "metadata": {},
   "outputs": [],
   "source": [
    "# computing the initial centroids randomly\n",
    "def get_centriods(X):\n",
    "    m=X.shape[0]\n",
    "    n=X.shape[1] \n",
    "\n",
    "    # creating an empty centroid array\n",
    "    centroids=np.array([]).reshape(n,0) \n",
    "    print(centroids.shape)\n",
    "    # creating 3 random centroids\n",
    "    for k in range(K):\n",
    "        centroids=np.c_[centroids,X[random.randint(0,m-1)]]\n",
    "        \n",
    "    return centroids,m,n\n",
    "\n",
    "    "
   ]
  },
  {
   "cell_type": "code",
   "execution_count": 52,
   "id": "6a1c2039",
   "metadata": {},
   "outputs": [
    {
     "name": "stdout",
     "output_type": "stream",
     "text": [
      "(2, 0)\n",
      "(2, 0)\n",
      "(2, 0)\n"
     ]
    }
   ],
   "source": [
    "centroids_path,m_path,n_path = get_centriods(w_X_path)\n",
    "centroids_artf,m_artf,n_artf = get_centriods(w_X_artf)\n",
    "centroids_spir,m_spir,n_spir = get_centriods(w_X_spir)"
   ]
  },
  {
   "cell_type": "code",
   "execution_count": 53,
   "id": "dc549d9c",
   "metadata": {},
   "outputs": [],
   "source": [
    "def get_euclidean(X,m,centroids):\n",
    "    \n",
    "    output={}\n",
    "\n",
    "    # creating an empty array\n",
    "    euclid=np.array([]).reshape(m,0)\n",
    "    print(euclid)\n",
    "    # finding distance between for each centroid  using Euclidean Distance\n",
    "    for k in range(K):\n",
    "           dist=np.sum((X-centroids[:,k])**2,axis=1)\n",
    "           euclid=np.c_[euclid,dist]\n",
    "\n",
    "    # storing the minimum value we have computed\n",
    "    minimum=np.argmin(euclid,axis=1)+1\n",
    "    return minimum"
   ]
  },
  {
   "cell_type": "code",
   "execution_count": 54,
   "id": "51efcc07",
   "metadata": {},
   "outputs": [
    {
     "name": "stdout",
     "output_type": "stream",
     "text": [
      "[]\n",
      "[]\n",
      "[]\n"
     ]
    }
   ],
   "source": [
    "minimum_path = get_euclidean(w_X_path,m_path,centroids_path)\n",
    "minimum_artf = get_euclidean(w_X_artf,m_artf,centroids_artf)\n",
    "minimum_spir = get_euclidean(w_X_spir,m_spir,centroids_spir)"
   ]
  },
  {
   "cell_type": "code",
   "execution_count": 56,
   "id": "f3ec23e3",
   "metadata": {},
   "outputs": [
    {
     "data": {
      "text/plain": [
       "array([1, 2, 2, ..., 2, 3, 3])"
      ]
     },
     "execution_count": 56,
     "metadata": {},
     "output_type": "execute_result"
    }
   ],
   "source": [
    "minimum_artf"
   ]
  },
  {
   "cell_type": "code",
   "execution_count": 57,
   "id": "fe9cfa5e",
   "metadata": {},
   "outputs": [],
   "source": [
    "# computing the mean of separated clusters\n",
    "def computing_mean(centroids,minimum,X):\n",
    "    \n",
    "    cent={}\n",
    "    for k in range(K):\n",
    "        cent[k+1]=np.array([]).reshape(2,0)\n",
    "\n",
    "    # assigning of clusters to points\n",
    "    for k in range(m):\n",
    "        cent[minimum[k]]=np.c_[cent[minimum[k]],X[k]]\n",
    "    for k in range(K):\n",
    "        cent[k+1]=cent[k+1].T\n",
    "\n",
    "    # computing mean and updating it\n",
    "    for k in range(K):\n",
    "         centroids[:,k]=np.mean(cent[k+1],axis=0)\n",
    "    return  centroids,cent      "
   ]
  },
  {
   "cell_type": "code",
   "execution_count": 59,
   "id": "a83cc3f4",
   "metadata": {},
   "outputs": [],
   "source": [
    "centroids_path,cent_path = computing_mean(centroids_path,minimum_path,w_X_path)\n",
    "centroids_artf,cent_artf = computing_mean(centroids_artf,minimum_artf,w_X_artf)\n",
    "centroids_spir,cent_spir = computing_mean(centroids_spir,minimum_spir,w_X_spir)"
   ]
  },
  {
   "cell_type": "code",
   "execution_count": 89,
   "id": "47f8fc12",
   "metadata": {},
   "outputs": [],
   "source": [
    "# repeating the above steps again and again\n",
    "def rep_again(centroids,X,m):\n",
    "    \n",
    "    for i in range(n_iter):\n",
    "          euclid=np.array([]).reshape(m,0)\n",
    "          for k in range(K):\n",
    "              dist=np.sum((X-centroids[:,k])**2,axis=1)\n",
    "              euclid=np.c_[euclid,dist]\n",
    "          C=np.argmin(euclid,axis=1)+1\n",
    "          cent={}\n",
    "          for k in range(K):\n",
    "               cent[k+1]=np.array([]).reshape(2,0)\n",
    "          for k in range(m):\n",
    "               cent[C[k]]=np.c_[cent[C[k]],X[k]]\n",
    "          for k in range(K):\n",
    "               cent[k+1]=cent[k+1].T\n",
    "          for k in range(K):\n",
    "               centroids[:,k]=np.mean(cent[k+1],axis=0)\n",
    "          final=cent\n",
    "    return centroids,final,C    "
   ]
  },
  {
   "cell_type": "code",
   "execution_count": 90,
   "id": "1dd8b0ae",
   "metadata": {},
   "outputs": [],
   "source": [
    "centroids_path,final_path,y_pred_path = rep_again(centroids_path,w_X_path,m_path)\n",
    "centroids_artf,final_artf,y_pred_artf = rep_again(centroids_artf,w_X_artf,m_artf)\n",
    "centroids_spir,final_spir,y_pred_spir = rep_again(centroids_spir,w_X_spir,m_spir)"
   ]
  },
  {
   "cell_type": "code",
   "execution_count": 79,
   "id": "580f1c08",
   "metadata": {},
   "outputs": [
    {
     "data": {
      "image/png": "[encoded data removed]",
      "text/plain": [
       "<Figure size 432x288 with 1 Axes>"
      ]
     },
     "metadata": {
      "needs_background": "light"
     },
     "output_type": "display_data"
    },
    {
     "data": {
      "image/png": "[encoded data removed]",
      "text/plain": [
       "<Figure size 432x288 with 1 Axes>"
      ]
     },
     "metadata": {
      "needs_background": "light"
     },
     "output_type": "display_data"
    },
    {
     "data": {
      "image/png": "[encoded data removed]",
      "text/plain": [
       "<Figure size 432x288 with 1 Axes>"
      ]
     },
     "metadata": {
      "needs_background": "light"
     },
     "output_type": "display_data"
    }
   ],
   "source": [
    "plt.scatter(w_X_path[:,0],w_X_path[:,1])\n",
    "# plt.rcParams.update({'figure.figsize':(10,7.5), 'figure.dpi':100})\n",
    "plt.title('Path Dataset')\n",
    "plt.show()\n",
    "\n",
    "plt.scatter(w_X_artf[:,0],w_X_artf[:,1])\n",
    "# plt.rcParams.update({'figure.figsize':(10,7.5), 'figure.dpi':100})\n",
    "plt.title('Artificial Dataset')\n",
    "plt.show()\n",
    "\n",
    "\n",
    "plt.scatter(w_X_spir[:,0],w_X_spir[:,1])\n",
    "# plt.rcParams.update({'figure.figsize':(10,7.5), 'figure.dpi':100})\n",
    "plt.title('Spiral Dataset')\n",
    "plt.show()\n",
    "\n"
   ]
  },
  {
   "cell_type": "code",
   "execution_count": 164,
   "id": "c560c359",
   "metadata": {},
   "outputs": [
    {
     "data": {
      "image/png": "[encoded data removed]",
      "text/plain": [
       "<Figure size 432x288 with 1 Axes>"
      ]
     },
     "metadata": {
      "needs_background": "light"
     },
     "output_type": "display_data"
    }
   ],
   "source": [
    "for k in range(K):\n",
    "    plt.scatter(final_path[k+1][:,0],final_path[k+1][:,1])\n",
    "plt.scatter(centroids_path[0,:],centroids_path[1,:],s=300,c='yellow')\n",
    "# plt.rcParams.update({'figure.figsize':(6,5), 'figure.dpi':100})\n",
    "plt.title('Path Dataset K Mean Without Library Function')\n",
    "plt.show()"
   ]
  },
  {
   "cell_type": "code",
   "execution_count": 165,
   "id": "adec8603",
   "metadata": {},
   "outputs": [
    {
     "data": {
      "image/png": "[encoded data removed]",
      "text/plain": [
       "<Figure size 432x288 with 1 Axes>"
      ]
     },
     "metadata": {
      "needs_background": "light"
     },
     "output_type": "display_data"
    }
   ],
   "source": [
    "for k in range(K):\n",
    "    plt.scatter(final_artf[k+1][:,0],final_artf[k+1][:,1])\n",
    "plt.scatter(centroids_artf[0,:],centroids_artf[1,:],s=300,c='yellow')\n",
    "# plt.rcParams.update({'figure.figsize':(6,5), 'figure.dpi':100})\n",
    "plt.title('Artificial Dataset K Mean Without Library Function')\n",
    "plt.show()"
   ]
  },
  {
   "cell_type": "code",
   "execution_count": 166,
   "id": "1b485328",
   "metadata": {},
   "outputs": [
    {
     "data": {
      "image/png": "[encoded data removed]",
      "text/plain": [
       "<Figure size 432x288 with 1 Axes>"
      ]
     },
     "metadata": {
      "needs_background": "light"
     },
     "output_type": "display_data"
    }
   ],
   "source": [
    "for k in range(K):\n",
    "    plt.scatter(final_spir[k+1][:,0],final_spir[k+1][:,1])\n",
    "plt.scatter(centroids_spir[0,:],centroids_spir[1,:],s=300,c='yellow')\n",
    "# plt.rcParams.update({'figure.figsize':(6,5), 'figure.dpi':100})\n",
    "plt.title('Spiral Dataset K Mean Without Library Function')\n",
    "plt.show()"
   ]
  },
  {
   "cell_type": "code",
   "execution_count": 103,
   "id": "eaf5c5e9",
   "metadata": {},
   "outputs": [],
   "source": [
    "eval_kmean   = {'path':{},'artf':{},'spir':{}}"
   ]
  },
  {
   "cell_type": "code",
   "execution_count": 104,
   "id": "147986c9",
   "metadata": {},
   "outputs": [],
   "source": [
    "def sihouette_calc(X,y_pred):\n",
    "    silhouette_avg = silhouette_score(X, y_pred)\n",
    "    print(silhouette_avg)\n",
    "    return silhouette_avg"
   ]
  },
  {
   "cell_type": "code",
   "execution_count": 146,
   "id": "d3a7cb56",
   "metadata": {},
   "outputs": [
    {
     "name": "stdout",
     "output_type": "stream",
     "text": [
      "0.5420275543619765\n",
      "0.5492679494658761\n",
      "0.36141515270397445\n"
     ]
    }
   ],
   "source": [
    "eval_kmean['path']['sihouette']   = sihouette_calc(w_X_path,y_pred_path)\n",
    "eval_kmean['artf']['sihouette']   = sihouette_calc(w_X_artf,y_pred_artf)\n",
    "eval_kmean['spir']['sihouette']   = sihouette_calc(w_X_spir,y_pred_spir)"
   ]
  },
  {
   "cell_type": "code",
   "execution_count": 147,
   "id": "d1e0383c",
   "metadata": {},
   "outputs": [],
   "source": [
    "# 2.Computing Purity Score\n",
    "\n",
    "def purity_score(y_true, y_pred):\n",
    "    # compute contingency matrix (also called confusion matrix)\n",
    "    contingency_matrix = metrics.cluster.contingency_matrix(y_true, y_pred)\n",
    "    # return purity\n",
    "#     print(np.sum(np.amax(contingency_matrix, axis=0)) / np.sum(contingency_matrix))\n",
    "    return np.sum(np.amax(contingency_matrix, axis=0)) / np.sum(contingency_matrix) "
   ]
  },
  {
   "cell_type": "code",
   "execution_count": 159,
   "id": "9954ddbf",
   "metadata": {},
   "outputs": [],
   "source": [
    "eval_kmean['path']['purity']      = purity_score(w_y_path,y_pred_path)\n",
    "eval_kmean['artf']['purity']      = purity_score(w_y_artf,y_pred_artf)\n",
    "eval_kmean['spir']['purity']      = purity_score(w_y_spir,y_pred_spir)"
   ]
  },
  {
   "cell_type": "code",
   "execution_count": 149,
   "id": "707733f2",
   "metadata": {},
   "outputs": [],
   "source": [
    "def rand_index(y_true,y_pred):\n",
    "    from sklearn.metrics.cluster import rand_score\n",
    "    rand_score = rand_score(y_true, y_pred)\n",
    "    print(rand_score)\n",
    "    return rand_score"
   ]
  },
  {
   "cell_type": "code",
   "execution_count": 150,
   "id": "ad30a40b",
   "metadata": {},
   "outputs": [
    {
     "name": "stdout",
     "output_type": "stream",
     "text": [
      "0.7477814938684504\n",
      "0.8593255934683091\n",
      "0.5541058619836755\n"
     ]
    }
   ],
   "source": [
    "eval_kmean['path']['rand_index']   = rand_index(w_y_path,y_pred_path)\n",
    "eval_kmean['artf']['rand_index']   = rand_index(w_y_artf,y_pred_artf)\n",
    "eval_kmean['spir']['rand_index']   = rand_index(w_y_spir,y_pred_spir)"
   ]
  },
  {
   "cell_type": "code",
   "execution_count": 151,
   "id": "9da55408",
   "metadata": {},
   "outputs": [],
   "source": [
    "def calinski_score(X,y_pred):\n",
    "    from sklearn.metrics.cluster import calinski_harabasz_score\n",
    "    ch_index = calinski_harabasz_score(X, y_pred)\n",
    "    print(ch_index)\n",
    "    return ch_index"
   ]
  },
  {
   "cell_type": "code",
   "execution_count": 152,
   "id": "de79b1fd",
   "metadata": {},
   "outputs": [
    {
     "name": "stdout",
     "output_type": "stream",
     "text": [
      "359.03359301554286\n",
      "1269.3839473643336\n",
      "237.52519738760543\n"
     ]
    }
   ],
   "source": [
    "eval_kmean['path']['calinski_score']   = calinski_score(w_X_path,y_pred_path)\n",
    "eval_kmean['artf']['calinski_score']   = calinski_score(w_X_artf,y_pred_artf)\n",
    "eval_kmean['spir']['calinski_score']   = calinski_score(w_X_spir,y_pred_spir)"
   ]
  },
  {
   "cell_type": "code",
   "execution_count": 153,
   "id": "b5a5cb5c",
   "metadata": {},
   "outputs": [],
   "source": [
    "def davies_score(X,y_pred):\n",
    "    \n",
    "    from sklearn.metrics.cluster import davies_bouldin_score\n",
    "    db_index = davies_bouldin_score(X, y_pred)\n",
    "    print(db_index)\n",
    "    return db_index"
   ]
  },
  {
   "cell_type": "code",
   "execution_count": 154,
   "id": "349d9725",
   "metadata": {},
   "outputs": [
    {
     "name": "stdout",
     "output_type": "stream",
     "text": [
      "0.6662412952246745\n",
      "0.6986488218381682\n",
      "0.8892926294746718\n"
     ]
    }
   ],
   "source": [
    "eval_kmean['path']['davies_score']   = davies_score(w_X_path,y_pred_path)\n",
    "eval_kmean['artf']['davies_score']   = davies_score(w_X_artf,y_pred_artf)\n",
    "eval_kmean['spir']['davies_score']   = davies_score(w_X_spir,y_pred_spir)"
   ]
  },
  {
   "cell_type": "code",
   "execution_count": 160,
   "id": "722c9441",
   "metadata": {},
   "outputs": [
    {
     "data": {
      "text/plain": [
       "{'path': {'sihouette': 0.5420275543619765,\n",
       "  'purity': 0.7433333333333333,\n",
       "  'rand_index': 0.7477814938684504,\n",
       "  'calinski_score': 2.3935572867702857,\n",
       "  'davies_score': 0.6662412952246745},\n",
       " 'artf': {'sihouette': 0.5492679494658761,\n",
       "  'rand_index': 0.8593255934683091,\n",
       "  'calinski_score': 8.462559649095557,\n",
       "  'davies_score': 0.6986488218381682,\n",
       "  'purity': 0.8870168483647175},\n",
       " 'spir': {'sihouette': 0.36141515270397445,\n",
       "  'rand_index': 0.5541058619836755,\n",
       "  'calinski_score': 1.5835013159173696,\n",
       "  'davies_score': 0.8892926294746718,\n",
       "  'purity': 0.34615384615384615}}"
      ]
     },
     "execution_count": 160,
     "metadata": {},
     "output_type": "execute_result"
    }
   ],
   "source": [
    "eval_kmean"
   ]
  },
  {
   "cell_type": "code",
   "execution_count": 161,
   "id": "ae76e03c",
   "metadata": {},
   "outputs": [],
   "source": [
    "# normalizing the calinski_score values so that the graph could be visualized properly\n",
    "\n",
    "eval_kmean['path']['calinski_score']   = eval_kmean['path']['calinski_score']/150\n",
    "eval_kmean['artf']['calinski_score']   = eval_kmean['artf']['calinski_score']/150\n",
    "eval_kmean['spir']['calinski_score']   = eval_kmean['spir']['calinski_score']/150\n"
   ]
  },
  {
   "cell_type": "code",
   "execution_count": 162,
   "id": "6181a679",
   "metadata": {},
   "outputs": [
    {
     "data": {
      "text/plain": [
       "{'path': {'sihouette': 0.5420275543619765,\n",
       "  'purity': 0.7433333333333333,\n",
       "  'rand_index': 0.7477814938684504,\n",
       "  'calinski_score': 0.01595704857846857,\n",
       "  'davies_score': 0.6662412952246745},\n",
       " 'artf': {'sihouette': 0.5492679494658761,\n",
       "  'rand_index': 0.8593255934683091,\n",
       "  'calinski_score': 0.05641706432730371,\n",
       "  'davies_score': 0.6986488218381682,\n",
       "  'purity': 0.8870168483647175},\n",
       " 'spir': {'sihouette': 0.36141515270397445,\n",
       "  'rand_index': 0.5541058619836755,\n",
       "  'calinski_score': 0.010556675439449131,\n",
       "  'davies_score': 0.8892926294746718,\n",
       "  'purity': 0.34615384615384615}}"
      ]
     },
     "execution_count": 162,
     "metadata": {},
     "output_type": "execute_result"
    }
   ],
   "source": [
    "eval_kmean"
   ]
  },
  {
   "cell_type": "code",
   "execution_count": 163,
   "id": "94791b89",
   "metadata": {},
   "outputs": [],
   "source": [
    "# writing these evaluations to a file \n",
    "import json\n",
    "\n",
    "with open('convert.txt', 'w') as convert_file:\n",
    "    convert_file.write(json.dumps(eval_kmean))\n"
   ]
  },
  {
   "cell_type": "code",
   "execution_count": null,
   "id": "3fe108f1",
   "metadata": {},
   "outputs": [],
   "source": []
  },
  {
   "cell_type": "code",
   "execution_count": null,
   "id": "1e42b0ee",
   "metadata": {},
   "outputs": [],
   "source": []
  }
 ],
 "metadata": {
  "kernelspec": {
   "display_name": "Python 3 (ipykernel)",
   "language": "python",
   "name": "python3"
  },
  "language_info": {
   "codemirror_mode": {
    "name": "ipython",
    "version": 3
   },
   "file_extension": ".py",
   "mimetype": "text/x-python",
   "name": "python",
   "nbconvert_exporter": "python",
   "pygments_lexer": "ipython3",
   "version": "3.9.7"
  }
 },
 "nbformat": 4,
 "nbformat_minor": 5
}
